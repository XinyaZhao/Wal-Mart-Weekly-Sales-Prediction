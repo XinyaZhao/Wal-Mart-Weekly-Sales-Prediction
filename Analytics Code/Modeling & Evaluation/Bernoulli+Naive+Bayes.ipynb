{
 "cells": [
  {
   "cell_type": "code",
   "execution_count": null,
   "metadata": {
    "collapsed": true
   },
   "outputs": [],
   "source": [
    "##### Import Pacakges\n",
    "import pandas as pd\n",
    "from sklearn import metrics\n",
    "from sklearn.tree import DecisionTreeClassifier\n",
    "from sklearn.linear_model import LogisticRegression\n",
    "from sklearn.naive_bayes import BernoulliNB\n",
    "from sklearn.model_selection import train_test_split\n",
    "from sklearn.model_selection import cross_val_score\n",
    "from sklearn.model_selection import GridSearchCV\n",
    "import numpy as np\n",
    "import os\n",
    "from IPython.display import Image\n",
    "import sklearn\n",
    "from sklearn import tree\n",
    "import math\n",
    "#from dstools import data_tools\n",
    "\n",
    "import matplotlib.pylab as plt\n",
    "%matplotlib inline\n",
    "import matplotlib.pylab as pylab\n",
    "pylab.rcParams['figure.figsize'] = 14, 10"
   ]
  },
  {
   "cell_type": "code",
   "execution_count": null,
   "metadata": {
    "collapsed": true
   },
   "outputs": [],
   "source": [
    "data_dept = pd.DataFrame.from_csv('processed_data.csv')"
   ]
  },
  {
   "cell_type": "code",
   "execution_count": null,
   "metadata": {
    "collapsed": true
   },
   "outputs": [],
   "source": [
    "#Set X and Y\n",
    "X = data_dept.drop('Target_Variable',1)\n",
    "Y = data_dept['Target_Variable']\n",
    "#Create Date Splits\n",
    "X_train,X_test,Y_train,Y_test = train_test_split(X,Y, train_size =.75)"
   ]
  },
  {
   "cell_type": "code",
   "execution_count": null,
   "metadata": {
    "collapsed": true
   },
   "outputs": [],
   "source": [
    "#Test Initial Naive Bayes Classifer\n",
    "\n",
    "BN_model = BernoulliNB()\n",
    "BN_model.fit(X_train,Y_train)\n",
    "\n",
    "print(metrics.accuracy_score(Y_test,BN_model.predict(X_test)))\n",
    "#0.568\n"
   ]
  },
  {
   "cell_type": "code",
   "execution_count": null,
   "metadata": {
    "collapsed": true
   },
   "outputs": [],
   "source": [
    "# Tune BN by finding the best parameters with grid search\n",
    "\n",
    "alpha_list =[1,2,3,4,5,6,7,8,9,10,11,12]\n",
    "\n",
    "grid = {'alpha': alpha_list}\n",
    "\n",
    "BN_model = BernoulliNB()\n",
    "BN_model_clf = GridSearchCV(BN_model, grid)\n",
    "BN_model_clf.fit(X,Y)\n",
    "\n",
    "print(BN_model_clf.best_estimator_.alpha)\n",
    "#7"
   ]
  },
  {
   "cell_type": "code",
   "execution_count": null,
   "metadata": {
    "collapsed": true
   },
   "outputs": [],
   "source": [
    "#Tuned BN\n",
    "BN_model = BernoulliNB(alpha=7)\n",
    "BN_model.fit(X_train,Y_train)\n",
    "metrics.accuracy_score(Y_test,BN_model.predict(X_test))\n",
    "\n",
    "#Cross Val BN - roc \n",
    "print(np.mean(cross_val_score(BN_model, X, Y, cv=5)))\n",
    "#0.526"
   ]
  }
 ],
 "metadata": {
  "kernelspec": {
   "display_name": "Python 3",
   "language": "python",
   "name": "python3"
  },
  "language_info": {
   "codemirror_mode": {
    "name": "ipython",
    "version": 3
   },
   "file_extension": ".py",
   "mimetype": "text/x-python",
   "name": "python",
   "nbconvert_exporter": "python",
   "pygments_lexer": "ipython3",
   "version": "3.5.2"
  }
 },
 "nbformat": 4,
 "nbformat_minor": 2
}
